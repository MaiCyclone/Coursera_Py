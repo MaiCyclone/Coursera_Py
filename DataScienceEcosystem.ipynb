{
 "cells": [
  {
   "cell_type": "markdown",
   "id": "c53a1023",
   "metadata": {},
   "source": [
    "# Data Science Tools and Ecosystme"
   ]
  },
  {
   "cell_type": "markdown",
   "id": "07dfa6bf",
   "metadata": {},
   "source": [
    "In this notebook, Data Science Tools and Ecosystme are summarized."
   ]
  },
  {
   "cell_type": "markdown",
   "id": "5b496b88",
   "metadata": {},
   "source": [
    "**Objectives:**\n",
    "\n",
    "- List popular programming languages used in Data Science.\n",
    "- List popular programming libraries used in Data Science.\n",
    "- List popular Tools used in Data Science.\n",
    "\n"
   ]
  },
  {
   "cell_type": "markdown",
   "id": "85b77c27",
   "metadata": {},
   "source": [
    "Some of the popular languages that Data Scientists use are:\n",
    " 1. Python\n",
    " 2. SQL\n",
    " 3. R"
   ]
  },
  {
   "cell_type": "markdown",
   "id": "e11d34e0",
   "metadata": {},
   "source": [
    "Some of the commonly used libraries used by Data Scientists include:\n",
    "1. Numpy\n",
    "2. Pandas\n",
    "3. Scikit-learn"
   ]
  },
  {
   "cell_type": "markdown",
   "id": "956b2748",
   "metadata": {},
   "source": [
    "| Data Science Tools |\n",
    "|----------|\n",
    "|  Jupyter Notebook   |\n",
    "|  RStudio   |\n",
    "|  Spyder   |"
   ]
  },
  {
   "cell_type": "markdown",
   "id": "dd1c5299",
   "metadata": {},
   "source": [
    "### Below are a few examples of evaluting arithmetic expressions in Python."
   ]
  },
  {
   "cell_type": "code",
   "execution_count": 2,
   "id": "fbc19f5a",
   "metadata": {},
   "outputs": [
    {
     "data": {
      "text/plain": [
       "17"
      ]
     },
     "execution_count": 2,
     "metadata": {},
     "output_type": "execute_result"
    }
   ],
   "source": [
    "# This a simple arithmetic expression to mutiply then add integers.\n",
    "(3*4)+5"
   ]
  },
  {
   "cell_type": "code",
   "execution_count": 4,
   "id": "5e667c86",
   "metadata": {},
   "outputs": [
    {
     "name": "stdout",
     "output_type": "stream",
     "text": [
      "3.3333333333333335\n"
     ]
    }
   ],
   "source": [
    "# This will convert 200 minutes to hours by diving by 60\n",
    "hours = 200/60\n",
    "print(hours)"
   ]
  },
  {
   "cell_type": "markdown",
   "id": "628d832d",
   "metadata": {},
   "source": [
    "## Author\n",
    "Jay"
   ]
  },
  {
   "cell_type": "code",
   "execution_count": null,
   "id": "527c2b68",
   "metadata": {},
   "outputs": [],
   "source": []
  }
 ],
 "metadata": {
  "kernelspec": {
   "display_name": "Python 3 (ipykernel)",
   "language": "python",
   "name": "python3"
  },
  "language_info": {
   "codemirror_mode": {
    "name": "ipython",
    "version": 3
   },
   "file_extension": ".py",
   "mimetype": "text/x-python",
   "name": "python",
   "nbconvert_exporter": "python",
   "pygments_lexer": "ipython3",
   "version": "3.10.10"
  }
 },
 "nbformat": 4,
 "nbformat_minor": 5
}
